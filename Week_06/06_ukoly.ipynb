{
 "cells": [
  {
   "attachments": {},
   "cell_type": "markdown",
   "metadata": {},
   "source": [
    "# Úkoly\n",
    "\n",
    "## Indexování a řezání\n",
    "\n",
    "- Vytvořte NumPy pole s názvem `a` obsahující čísla od 1 do 10.\n",
    "- Vytvořte 2D NumPy pole s názvem `b` o rozměrech 3x3 a naplňte ho libovolnými čísly.\n"
   ]
  },
  {
   "cell_type": "code",
   "execution_count": 4,
   "metadata": {},
   "outputs": [],
   "source": [
    "import numpy as np"
   ]
  },
  {
   "cell_type": "code",
   "execution_count": 14,
   "metadata": {},
   "outputs": [
    {
     "name": "stdout",
     "output_type": "stream",
     "text": [
      "[ 1  2  3  4  5  6  7  8  9 10]\n",
      "[[7 2 2]\n",
      " [8 8 2]\n",
      " [8 3 9]]\n"
     ]
    }
   ],
   "source": [
    "a = np.arange(1,11)\n",
    "print(a)\n",
    "b = np.random.randint(1,10,(3,3))\n",
    "print(b)"
   ]
  },
  {
   "cell_type": "markdown",
   "metadata": {},
   "source": [
    "\n",
    "1. Vyberte z pole `a` třetí a čtvrtý prvek.\n"
   ]
  },
  {
   "cell_type": "code",
   "execution_count": 9,
   "metadata": {},
   "outputs": [
    {
     "name": "stdout",
     "output_type": "stream",
     "text": [
      "[3 4]\n"
     ]
    }
   ],
   "source": [
    "print(a[2:4])"
   ]
  },
  {
   "cell_type": "markdown",
   "metadata": {},
   "source": [
    "\n",
    "2. Vyberte z pole `a` všechny sudá čísla.\n"
   ]
  },
  {
   "cell_type": "code",
   "execution_count": 15,
   "metadata": {},
   "outputs": [
    {
     "data": {
      "text/plain": [
       "array([2, 2, 8, 8, 2, 8])"
      ]
     },
     "execution_count": 15,
     "metadata": {},
     "output_type": "execute_result"
    }
   ],
   "source": [
    "b[b%2==0]"
   ]
  },
  {
   "cell_type": "markdown",
   "metadata": {},
   "source": [
    "\n",
    "3. Obraťte vektor `a` (první prvek se stane posledním).\n"
   ]
  },
  {
   "cell_type": "code",
   "execution_count": 16,
   "metadata": {},
   "outputs": [
    {
     "data": {
      "text/plain": [
       "array([10,  9,  8,  7,  6,  5,  4,  3,  2,  1])"
      ]
     },
     "execution_count": 16,
     "metadata": {},
     "output_type": "execute_result"
    }
   ],
   "source": [
    "a[::-1]"
   ]
  },
  {
   "cell_type": "markdown",
   "metadata": {},
   "source": [
    "\n",
    "5. Vyberte z pole `b` druhý řádek.\n"
   ]
  },
  {
   "cell_type": "code",
   "execution_count": 18,
   "metadata": {},
   "outputs": [
    {
     "data": {
      "text/plain": [
       "array([8, 8, 2])"
      ]
     },
     "execution_count": 18,
     "metadata": {},
     "output_type": "execute_result"
    }
   ],
   "source": [
    "b[1]"
   ]
  },
  {
   "cell_type": "markdown",
   "metadata": {},
   "source": [
    "\n",
    "6. Vyberte z pole `b` diagonální prvky.\n"
   ]
  },
  {
   "cell_type": "code",
   "execution_count": 19,
   "metadata": {},
   "outputs": [
    {
     "data": {
      "text/plain": [
       "array([7, 8, 9])"
      ]
     },
     "execution_count": 19,
     "metadata": {},
     "output_type": "execute_result"
    }
   ],
   "source": [
    "np.diagonal(b)"
   ]
  },
  {
   "cell_type": "markdown",
   "metadata": {},
   "source": [
    "\n",
    "7. Změňte hodnotu prvku na druhém řádku, prvním sloupci v `b` na 100.\n"
   ]
  },
  {
   "cell_type": "code",
   "execution_count": 21,
   "metadata": {},
   "outputs": [
    {
     "name": "stdout",
     "output_type": "stream",
     "text": [
      "[[  7   2   2]\n",
      " [100   8   2]\n",
      " [  8   3   9]]\n"
     ]
    }
   ],
   "source": [
    "b[1,0] = 100\n",
    "print(b)"
   ]
  },
  {
   "cell_type": "markdown",
   "metadata": {},
   "source": [
    "\n",
    "8. Vyberte z pole `b` všechny prvky větší než 5.\n"
   ]
  },
  {
   "cell_type": "code",
   "execution_count": 23,
   "metadata": {},
   "outputs": [
    {
     "data": {
      "text/plain": [
       "array([  7, 100,   8,   8,   9])"
      ]
     },
     "execution_count": 23,
     "metadata": {},
     "output_type": "execute_result"
    }
   ],
   "source": [
    "b[b>5]"
   ]
  },
  {
   "cell_type": "markdown",
   "metadata": {},
   "source": [
    "\n",
    "9. Vytvořte masku pro pole `b`, která bude True pro všechny prvky menší než 3.\n"
   ]
  },
  {
   "cell_type": "code",
   "execution_count": 24,
   "metadata": {},
   "outputs": [],
   "source": [
    "mask = b<3"
   ]
  },
  {
   "cell_type": "markdown",
   "metadata": {},
   "source": [
    "\n",
    "10. Pomocí masky vyberte z pole `b` všechny prvky menší než 3.\n",
    "\n",
    "\n"
   ]
  },
  {
   "cell_type": "code",
   "execution_count": 25,
   "metadata": {},
   "outputs": [
    {
     "data": {
      "text/plain": [
       "array([2, 2, 2])"
      ]
     },
     "execution_count": 25,
     "metadata": {},
     "output_type": "execute_result"
    }
   ],
   "source": [
    "b[mask]"
   ]
  },
  {
   "cell_type": "markdown",
   "metadata": {},
   "source": [
    "\n",
    "## View a copy\n",
    "\n",
    "- Vytvořte NumPy pole s názvem `a` a naplňte ho libovolnými čísly.\n"
   ]
  },
  {
   "cell_type": "code",
   "execution_count": 33,
   "metadata": {},
   "outputs": [
    {
     "name": "stdout",
     "output_type": "stream",
     "text": [
      "[[6 8 6 1 4]\n",
      " [3 5 2 7 7]\n",
      " [1 1 6 8 6]\n",
      " [5 8 7 8 1]\n",
      " [6 5 3 1 6]]\n"
     ]
    }
   ],
   "source": [
    "a = np.random.randint(1,9,(5,5))\n",
    "print(a)"
   ]
  },
  {
   "cell_type": "markdown",
   "metadata": {},
   "source": [
    "\n",
    "1. Pomocí `a` vytvořte proměnnou `b` obsahující řez druhého řádku a všech sloupců pole `a`.\n"
   ]
  },
  {
   "cell_type": "code",
   "execution_count": 34,
   "metadata": {},
   "outputs": [
    {
     "name": "stdout",
     "output_type": "stream",
     "text": [
      "[3 5 2 7 7]\n"
     ]
    }
   ],
   "source": [
    "b = a[1, :]\n",
    "print(b)"
   ]
  },
  {
   "cell_type": "markdown",
   "metadata": {},
   "source": [
    "\n",
    "3. Změňte hodnotu prvního prvku v `b`. Jak se tato změna projeví v `a`?\n"
   ]
  },
  {
   "cell_type": "code",
   "execution_count": 36,
   "metadata": {},
   "outputs": [
    {
     "name": "stdout",
     "output_type": "stream",
     "text": [
      "[[ 6  8  6  1  4]\n",
      " [10  5  2  7  7]\n",
      " [ 1  1  6  8  6]\n",
      " [ 5  8  7  8  1]\n",
      " [ 6  5  3  1  6]]\n"
     ]
    }
   ],
   "source": [
    "b[0] = 10\n",
    "print(a)"
   ]
  },
  {
   "cell_type": "markdown",
   "metadata": {},
   "source": [
    "\n",
    "4. Vytvořte proměnnou `c` obsahující **kopii** druhého řádku pole `a`.\n"
   ]
  },
  {
   "cell_type": "code",
   "execution_count": 37,
   "metadata": {},
   "outputs": [],
   "source": [
    "c = a[1, :].copy()"
   ]
  },
  {
   "cell_type": "markdown",
   "metadata": {},
   "source": [
    "\n",
    "5. Změňte hodnotu prvního prvku v `c`. Jak se tato změna projeví v `a`?\n"
   ]
  },
  {
   "cell_type": "code",
   "execution_count": 39,
   "metadata": {},
   "outputs": [
    {
     "name": "stdout",
     "output_type": "stream",
     "text": [
      "[[ 6  8  6  1  4]\n",
      " [10  5  2  7  7]\n",
      " [ 1  1  6  8  6]\n",
      " [ 5  8  7  8  1]\n",
      " [ 6  5  3  1  6]]\n"
     ]
    }
   ],
   "source": [
    "c[0] = 100\n",
    "print(a)"
   ]
  },
  {
   "cell_type": "markdown",
   "metadata": {},
   "source": [
    "\n",
    "6. Zjistěte, zda `b` a `c` sdílí stejná data v paměti.\n"
   ]
  },
  {
   "cell_type": "code",
   "execution_count": 48,
   "metadata": {},
   "outputs": [
    {
     "name": "stdout",
     "output_type": "stream",
     "text": [
      "140026314763568\n",
      "140026314932560\n"
     ]
    }
   ],
   "source": [
    "print(id(b))\n",
    "print(id(c))"
   ]
  },
  {
   "cell_type": "code",
   "execution_count": 49,
   "metadata": {},
   "outputs": [
    {
     "name": "stdout",
     "output_type": "stream",
     "text": [
      "<memory at 0x7f5a6b65d700>\n",
      "<memory at 0x7f5a6be9a680>\n",
      "<memory at 0x7f5a6be9a680>\n"
     ]
    }
   ],
   "source": [
    "print(a.data)\n",
    "print(b.data)\n",
    "print(c.data)"
   ]
  },
  {
   "cell_type": "markdown",
   "metadata": {},
   "source": [
    "\n",
    "7. Vytvořte proměnnou `d` obsahující diagonální prvky pole `a`.\n"
   ]
  },
  {
   "cell_type": "code",
   "execution_count": 43,
   "metadata": {},
   "outputs": [
    {
     "name": "stdout",
     "output_type": "stream",
     "text": [
      "[6 5 6 8 6]\n"
     ]
    }
   ],
   "source": [
    "d = np.diag(a)\n",
    "print(d)"
   ]
  },
  {
   "cell_type": "markdown",
   "metadata": {},
   "source": [
    "\n",
    "8. Změňte hodnotu prvního diagonálního prvku v `d`. Jak se tato změna projeví v `a`?\n",
    "\n"
   ]
  },
  {
   "cell_type": "code",
   "execution_count": 50,
   "metadata": {},
   "outputs": [
    {
     "ename": "ValueError",
     "evalue": "assignment destination is read-only",
     "output_type": "error",
     "traceback": [
      "\u001b[0;31m---------------------------------------------------------------------------\u001b[0m",
      "\u001b[0;31mValueError\u001b[0m                                Traceback (most recent call last)",
      "\u001b[0;32m/tmp/ipykernel_3402/3613304937.py\u001b[0m in \u001b[0;36m<module>\u001b[0;34m\u001b[0m\n\u001b[0;32m----> 1\u001b[0;31m \u001b[0md\u001b[0m\u001b[0;34m[\u001b[0m\u001b[0;36m0\u001b[0m\u001b[0;34m]\u001b[0m \u001b[0;34m=\u001b[0m \u001b[0;36m100\u001b[0m\u001b[0;34m\u001b[0m\u001b[0;34m\u001b[0m\u001b[0m\n\u001b[0m",
      "\u001b[0;31mValueError\u001b[0m: assignment destination is read-only"
     ]
    }
   ],
   "source": [
    "d[0] = 100"
   ]
  },
  {
   "cell_type": "markdown",
   "metadata": {},
   "source": [
    "9. Vytvořte proměnnou `e` obsahující transpozici pole `a`. Jak je to s pamětí, jedná se o kopii nebo o \"array view\" ověřte pomocí atributu base.\n"
   ]
  },
  {
   "cell_type": "code",
   "execution_count": 51,
   "metadata": {},
   "outputs": [
    {
     "name": "stdout",
     "output_type": "stream",
     "text": [
      "[[ 6 10  1  5  6]\n",
      " [ 8  5  1  8  5]\n",
      " [ 6  2  6  7  3]\n",
      " [ 1  7  8  8  1]\n",
      " [ 4  7  6  1  6]]\n",
      "True\n"
     ]
    }
   ],
   "source": [
    "e = a.T\n",
    "print(e)\n",
    "print(a is e.base)"
   ]
  },
  {
   "cell_type": "markdown",
   "metadata": {},
   "source": [
    "\n",
    "\n",
    "## Lineární algebra\n",
    "\n",
    "1. Vynásobte matici 5x3 maticí 3x2 (maticový součin).\n"
   ]
  },
  {
   "cell_type": "code",
   "execution_count": 52,
   "metadata": {},
   "outputs": [],
   "source": [
    "V = np.random.randint(1,10,(5,3))\n",
    "U = np.random.randint(1,10,(3,2))"
   ]
  },
  {
   "cell_type": "code",
   "execution_count": 54,
   "metadata": {},
   "outputs": [
    {
     "name": "stdout",
     "output_type": "stream",
     "text": [
      "[[ 35  22]\n",
      " [ 60  46]\n",
      " [ 88  47]\n",
      " [103  73]\n",
      " [ 80  56]]\n"
     ]
    }
   ],
   "source": [
    "UV = np.dot(V,U)\n",
    "print(UV)"
   ]
  },
  {
   "cell_type": "markdown",
   "metadata": {},
   "source": [
    "2. Vezměme náhodnou matici 10x2 představující kartézské souřadnice, převeďte je na polární souřadnice.\n"
   ]
  },
  {
   "cell_type": "code",
   "execution_count": 56,
   "metadata": {},
   "outputs": [
    {
     "name": "stdout",
     "output_type": "stream",
     "text": [
      "[[0.34014379 0.65442314]\n",
      " [0.63665173 0.15402749]\n",
      " [0.11182796 0.6360601 ]\n",
      " [0.73384159 0.442497  ]\n",
      " [0.61672649 0.39022902]\n",
      " [0.36150372 0.08899343]\n",
      " [0.55388065 0.90640253]\n",
      " [0.5191186  0.95283293]\n",
      " [0.59077432 0.58044549]\n",
      " [0.81805633 0.1471419 ]]\n",
      "[0.34014379+0.65442314j 0.63665173+0.15402749j 0.11182796+0.6360601j\n",
      " 0.73384159+0.442497j   0.61672649+0.39022902j 0.36150372+0.08899343j\n",
      " 0.55388065+0.90640253j 0.5191186 +0.95283293j 0.59077432+0.58044549j\n",
      " 0.81805633+0.1471419j ]\n",
      "r = [0.73754149 0.65501901 0.64581572 0.85692886 0.72981522 0.37229662\n",
      " 1.06223789 1.085069   0.82820968 0.83118403], phi = [1.09146499 0.23737254 1.39676143 0.54261299 0.56414755 0.24137608\n",
      " 1.02227264 1.07194188 0.77657953 0.17796477]\n"
     ]
    }
   ],
   "source": [
    "a = np.random.rand(10,2)\n",
    "print(a)\n",
    "a_i = a[:, 0] + a[:, 1]*1j\n",
    "print(a_i)\n",
    "r = np.abs(a_i)\n",
    "phi = np.angle(a_i)\n",
    "print(f\"r = {r}, phi = {phi}\")"
   ]
  },
  {
   "cell_type": "markdown",
   "metadata": {},
   "source": [
    "3. Vzhledem ke dvěma polím X a Y zkonstruujte Cauchyho matici C (Cij =1/(xi - yj)).\n"
   ]
  },
  {
   "cell_type": "code",
   "execution_count": 58,
   "metadata": {},
   "outputs": [
    {
     "name": "stdout",
     "output_type": "stream",
     "text": [
      "[[   1.82606162    2.14901853    1.74022939    2.5190924    16.16849629\n",
      "     1.67505755   -4.77003731    7.41712104   -3.50249826    2.65747902\n",
      "     2.257867      2.27432602   17.11610449    6.0942095     2.87965925\n",
      "    10.81643592  285.52641642   -2.7504109     2.05112989    4.11678983]\n",
      " [ -26.68809826   -8.34948735  -95.60553768   -5.31552526   -1.91114016\n",
      "    84.04856085   -1.25827552   -2.22087326   -1.14862386   -4.78927083\n",
      "    -7.03231673   -6.87730328   -1.89871487   -2.37526114   -4.20462704\n",
      "    -2.02986073   -1.71941183   -1.05409781  -10.25006395   -2.92236316]\n",
      " [  21.1457947   -28.56553638   13.45877492   -9.67421597   -2.28056803\n",
      "    10.345702     -1.40849458   -2.73588291   -1.27251329   -8.06195194\n",
      "   -17.40945993  -16.48934617   -2.26289699   -2.97401548   -6.53284738\n",
      "    -2.4516773    -2.01274626   -1.15751732  -78.12650095   -3.8845782 ]\n",
      " [   1.39873778    1.58069694    1.34781693    1.77219494    4.36390974\n",
      "     1.30839009  -23.61926151    3.30986813   -8.45974651    1.83958753\n",
      "     1.63880823    1.64746182    4.43010766    3.01755768    1.94338172\n",
      "     3.8497736     5.85459724   -5.09480416    1.52709104    2.43776774]\n",
      " [   1.78872162    2.09748902    1.70628452    2.44857856   13.64619293\n",
      "     1.64358456   -5.04515095    6.83737112   -3.64858773    2.5791255\n",
      "     2.20105432    2.2166926    14.31509089    5.69729047    2.78788269\n",
      "     9.62614588   66.96065063   -2.8396974     2.00413651    3.93175181]\n",
      " [   2.35066534    2.91448727    2.21032717    3.63963011  -16.56547806\n",
      "     2.10624205   -3.01334483   79.31455658   -2.45262951    3.93574805\n",
      "     3.11836657    3.1498491   -15.6762747    23.88058783    4.44349385\n",
      "   -33.59844804   -8.42368637   -2.05847208    2.73731876    8.2855164 ]\n",
      " [   4.62354514    7.46344931    4.11024512   15.23786878   -3.71066156\n",
      "     3.76432295   -1.84848227   -5.0885615    -1.62113208   22.24491926\n",
      "     8.96430947    9.22949358   -3.66410578   -5.97899448   62.81046109\n",
      "    -4.1860183    -3.05026758   -1.43900539    6.40230397  -11.30778086]\n",
      " [   1.08635181    1.19301253    1.05538407    1.29894787    2.30025645\n",
      "     1.03105551    6.12581818    1.9696335    11.44492461    1.33478924\n",
      "     1.22581866    1.23065386    2.31851814    1.86228181    1.38860196\n",
      "     2.14897853    2.65683447  107.48725919    1.1622209     1.62392185]\n",
      " [   2.71197719    3.49117252    2.52688029    4.58554918   -8.5438458\n",
      "     2.39175838   -2.57377767  -22.69180097   -2.15330464    5.0657407\n",
      "     3.78782281    3.83437466   -8.30099594  -67.5593935     5.93925353\n",
      "   -11.56870664   -5.70158979   -1.84340625    3.23997682   15.62116039]\n",
      " [   5.44340526    9.86090329    4.74566161   30.25695022   -3.31049707\n",
      "     4.29044044   -1.74349652   -4.36500312   -1.53981515   80.78609556\n",
      "    12.66179052   13.19738463   -3.27339097   -5.00430569  -60.04274024\n",
      "    -3.68369963   -2.77457308   -1.37457016    8.08943333   -8.26375259]\n",
      " [   1.10655902    1.21742711    1.07444554    1.32794351    2.39277735\n",
      "     1.04924073    6.82902694    2.03707927   14.17128694    1.36542596\n",
      "     1.25160895    1.25665017    2.41254395    1.92246357    1.42178945\n",
      "     2.22951716    2.78103765 -133.22097903    1.18537923    1.66949528]\n",
      " [   1.220709      1.35703972    1.18174493    1.49580178    2.99923748\n",
      "     1.15132587   16.14792981    2.46067467  -71.73044149    1.54352933\n",
      "     1.39964812    1.40595541    3.03035888    2.29537006    1.61594559\n",
      "     2.74709197    3.63541563  -10.86807333    1.31733982    1.94372103]\n",
      " [   1.10378765    1.21407343    1.0718325     1.3239543     2.37985661\n",
      "     1.04674871    6.72482539    2.02770694   13.72980988    1.36120873\n",
      "     1.24806457    1.25307723    2.39940943    1.91411407    1.41721745\n",
      "     2.21829531    2.76359887 -190.93712573    1.18219956    1.66319496]\n",
      " [   2.9710525     3.93262449    2.75034083    5.37857697   -6.70255144\n",
      "     2.59101706   -2.37706106  -13.11950551   -2.01387123    6.0514045\n",
      "     4.31312796    4.37359006   -6.55217497  -21.29680731    7.34118864\n",
      "    -8.43215178   -4.81827205   -1.74025744    3.61675976   31.38522467]\n",
      " [   3.47462551    4.86611249    3.17650867    7.29168443   -5.05108731\n",
      "     2.9658755    -2.13007148   -7.9998307    -1.83373073    8.58585528\n",
      "     5.46239033    5.55972986   -4.96521033  -10.44542909   11.43674543\n",
      "    -5.97464536   -3.90131935   -1.60408623    4.39154451  -59.10817401]\n",
      " [   1.9511652     2.32441206    1.85348393    2.76353033   37.40234737\n",
      "     1.779733     -4.08572928   10.02900186   -3.11892908    2.93096895\n",
      "     2.45228165    2.47170931   42.89612641    7.75327166    3.20357849\n",
      "    17.43998024  -31.63548051   -2.5081866     2.21031704    4.81242765]\n",
      " [   1.82914924    2.15329617    1.74303335    2.52497217   16.41381978\n",
      "     1.67765527   -4.74909654    7.46832677   -3.49119479    2.66402339\n",
      "     2.26258942    2.2791176    17.39127134    6.12873565    2.88734524\n",
      "    10.92567863  387.91217752   -2.74343577    2.05502635    4.13251637]\n",
      " [   2.08189168    2.51234541    1.97105456    3.03329855 -183.63486463\n",
      "     1.8878605    -3.61093966   14.80846555   -2.83442895    3.23622271\n",
      "     2.66239531    2.6853103  -112.74274157   10.33101275    3.5718234\n",
      "    39.74936333  -15.67595748   -2.32085173    2.37958183    5.69432457]\n",
      " [   1.68388272    1.95477571    1.61062801    2.25628046    9.25175391\n",
      "     1.55464574   -6.11983781    5.52296565   -4.1793519     2.36666549\n",
      "     2.04442609    2.05791109    9.5544336     4.75445309    2.54128152\n",
      "     7.21028162   20.10404011   -3.15116357    1.87344817    3.45845259]\n",
      " [  21.85908752  -27.35949484   13.74422999   -9.53191504   -2.2725702\n",
      "    10.51355196   -1.4054398    -2.72438081   -1.27001936   -7.96288641\n",
      "   -16.95398048  -16.08017409   -2.25502241   -2.96042891   -6.46764544\n",
      "    -2.44243673   -2.00651403   -1.15545341  -69.720824     -3.86143071]]\n"
     ]
    }
   ],
   "source": [
    "X = np.random.rand(2,10)\n",
    "Y = np.random.rand(2,10)\n",
    "C = 1/(X.reshape(-1,1)- Y.reshape(1,-1))\n",
    "print(C)"
   ]
  },
  {
   "cell_type": "markdown",
   "metadata": {},
   "source": [
    "4. Uvažujme náhodný vektor o tvaru (100,2) představující souřadnice, najděte vzdálenosti bod po bodu.\n"
   ]
  },
  {
   "cell_type": "code",
   "execution_count": 62,
   "metadata": {},
   "outputs": [
    {
     "data": {
      "text/plain": [
       "array([[0.        , 0.67903544, 0.47079084, ..., 0.50873619, 0.24481669,\n",
       "        0.68664125],\n",
       "       [0.67903544, 0.        , 0.24572832, ..., 1.00863278, 0.54470023,\n",
       "        0.4541852 ],\n",
       "       [0.47079084, 0.24572832, 0.        , ..., 0.76295756, 0.30198771,\n",
       "        0.33172517],\n",
       "       ...,\n",
       "       [0.50873619, 1.00863278, 0.76295756, ..., 0.        , 0.47450901,\n",
       "        0.75434311],\n",
       "       [0.24481669, 0.54470023, 0.30198771, ..., 0.47450901, 0.        ,\n",
       "        0.44620439],\n",
       "       [0.68664125, 0.4541852 , 0.33172517, ..., 0.75434311, 0.44620439,\n",
       "        0.        ]])"
      ]
     },
     "execution_count": 62,
     "metadata": {},
     "output_type": "execute_result"
    }
   ],
   "source": [
    "x = np.random.rand(100,2)\n",
    "np.sqrt(np.sum((x.reshape(-1,1,2) - x.reshape(1,-1,2))**2, axis=2))"
   ]
  },
  {
   "cell_type": "markdown",
   "metadata": {},
   "source": [
    "5. Ověřte empiricky na náhodné matici, že platí $(AB)^T = B^T A^T$\n"
   ]
  },
  {
   "cell_type": "code",
   "execution_count": 67,
   "metadata": {},
   "outputs": [
    {
     "name": "stdout",
     "output_type": "stream",
     "text": [
      "[[0.78415793 0.87591934 0.53026503 0.36491431 0.8822868 ]\n",
      " [0.48057482 0.33997489 0.85680315 0.59655703 0.55698992]\n",
      " [0.78926897 0.98074226 0.1244235  0.89889655 0.10097135]\n",
      " [0.33849206 0.80679243 0.51185238 0.28988735 0.39901762]\n",
      " [0.19311798 0.88415523 0.59617392 0.63145226 0.84744659]]\n",
      "[[0.92974418 0.25613024 0.37208314 0.57418546 0.91797773]\n",
      " [0.56440058 0.19961949 0.56118118 0.04892699 0.77036313]\n",
      " [0.01898162 0.07779364 0.47389497 0.56649904 0.54548125]\n",
      " [0.09349556 0.70913419 0.77467921 0.18689853 0.42116594]\n",
      " [0.25534623 0.82628586 0.66726333 0.49906001 0.73779097]]\n",
      "[[ True  True  True  True  True]\n",
      " [ True  True  True  True  True]\n",
      " [ True  True  True  True  True]\n",
      " [ True  True  True  True  True]\n",
      " [ True  True  True  True  True]]\n"
     ]
    },
    {
     "data": {
      "text/plain": [
       "array([[ True,  True,  True,  True,  True],\n",
       "       [ True,  True,  True,  True,  True],\n",
       "       [ True,  True,  True,  True,  True],\n",
       "       [ True,  True,  True,  True,  True],\n",
       "       [ True,  True,  True,  True,  True]])"
      ]
     },
     "execution_count": 67,
     "metadata": {},
     "output_type": "execute_result"
    }
   ],
   "source": [
    "A = np.random.rand(5,5)\n",
    "B = np.random.rand(5,5)\n",
    "print(A)\n",
    "print(B)\n",
    "AB = np.dot(A,B)\n",
    "AB_t = np.dot(B.T, A.T)\n",
    "print(AB.T == AB_t)\n",
    "np.isclose(AB.T, AB_t, rtol=1e-6)"
   ]
  },
  {
   "cell_type": "markdown",
   "metadata": {},
   "source": [
    "6. Pro náhodné 1D vektory $u, v$ vypočítejte dyadický součin $uv$ $$(uv)_{ij} = u_iv_j$$ pomocí `newaxis`. Zkontrolujte s `np.outer(u, v)`\n"
   ]
  },
  {
   "cell_type": "code",
   "execution_count": 76,
   "metadata": {},
   "outputs": [
    {
     "name": "stdout",
     "output_type": "stream",
     "text": [
      "[3 2 3 2 2] [4 3 2 1 1]\n"
     ]
    },
    {
     "data": {
      "text/plain": [
       "array([[12,  8, 12,  8,  8],\n",
       "       [ 9,  6,  9,  6,  6],\n",
       "       [ 6,  4,  6,  4,  4],\n",
       "       [ 3,  2,  3,  2,  2],\n",
       "       [ 3,  2,  3,  2,  2]])"
      ]
     },
     "execution_count": 76,
     "metadata": {},
     "output_type": "execute_result"
    }
   ],
   "source": [
    "u = np.random.randint(1,5,5)\n",
    "v = np.random.randint(1,5,5)\n",
    "print(u, v)\n",
    "np.outer(u,v)\n",
    "u * v.reshape(-1,1)\n"
   ]
  },
  {
   "cell_type": "markdown",
   "metadata": {},
   "source": [
    "7. Vypočítejte hodnost matice o velikosti 5x6 naplněnou hodnotami 0, 1, 2, 3 ... . Byly by jste schopni zdůvodnit proč je hodnost taková jaká je?\n"
   ]
  },
  {
   "cell_type": "code",
   "execution_count": 77,
   "metadata": {},
   "outputs": [
    {
     "name": "stdout",
     "output_type": "stream",
     "text": [
      "[[ 0  1  2  3  4  5]\n",
      " [ 6  7  8  9 10 11]\n",
      " [12 13 14 15 16 17]\n",
      " [18 19 20 21 22 23]\n",
      " [24 25 26 27 28 29]]\n"
     ]
    }
   ],
   "source": [
    "A = np.arange(0,30).reshape(5,6)\n",
    "print(A)"
   ]
  },
  {
   "cell_type": "code",
   "execution_count": 78,
   "metadata": {},
   "outputs": [
    {
     "data": {
      "text/plain": [
       "92.37342858597923"
      ]
     },
     "execution_count": 78,
     "metadata": {},
     "output_type": "execute_result"
    }
   ],
   "source": []
  },
  {
   "cell_type": "markdown",
   "metadata": {},
   "source": [
    "\n",
    "## Funkce nad poli\n",
    "1. Vytvořte pole 10x10 s náhodnými hodnotami a najděte minimální a maximální hodnoty.\n"
   ]
  },
  {
   "cell_type": "code",
   "execution_count": 101,
   "metadata": {},
   "outputs": [
    {
     "name": "stdout",
     "output_type": "stream",
     "text": [
      "[[ 29 172 115 163  24 242 102 165  83 164]\n",
      " [ 55 214  68 248 239 219 209  30 137 135]\n",
      " [103 102 152 237 140 236  74  55 230 156]\n",
      " [133 215  45 171 208  45 202 172  58  67]\n",
      " [ 32 215 185 235  84 160  29  28 167 197]\n",
      " [216 182  21 216 139 223 240  91  25 165]\n",
      " [ 33 171 248 165  33   7  40  25   5 189]\n",
      " [181  26  50  74   1 185 141  71 142 243]\n",
      " [ 56 230 183 103 124  70 159 108 134  27]\n",
      " [196  68 211 225 150  83   6 227  98 221]]\n"
     ]
    }
   ],
   "source": [
    "F = np.random.randint(1,250,(10,10))\n",
    "print(F)"
   ]
  },
  {
   "cell_type": "code",
   "execution_count": 102,
   "metadata": {},
   "outputs": [
    {
     "name": "stdout",
     "output_type": "stream",
     "text": [
      "1\n",
      "248\n"
     ]
    }
   ],
   "source": [
    "print(F.min())\n",
    "print(F.max())"
   ]
  },
  {
   "cell_type": "markdown",
   "metadata": {},
   "source": [
    "2. Vytvořte náhodný vektor o velikosti 30 a najděte střední hodnotu.\n",
    "\n"
   ]
  },
  {
   "cell_type": "code",
   "execution_count": 103,
   "metadata": {},
   "outputs": [
    {
     "name": "stdout",
     "output_type": "stream",
     "text": [
      "148.3\n"
     ]
    }
   ],
   "source": [
    "f = np.random.randint(1, 250, 30)\n",
    "print(f.mean())"
   ]
  },
  {
   "cell_type": "markdown",
   "metadata": {},
   "source": [
    "3. Uvažujme celočíselný vektor Z, které z těchto výrazů jsou platné?\n",
    "   ```python\n",
    "   Z**Z\n",
    "   2 << Z >> 2\n",
    "   Z <- Z\n",
    "   1j*Z\n",
    "   Z/1/1\n",
    "   Z<Z>Z\n",
    "   ```\n",
    "\n"
   ]
  },
  {
   "cell_type": "code",
   "execution_count": 107,
   "metadata": {},
   "outputs": [
    {
     "data": {
      "text/plain": [
       "array([[1],\n",
       "       [7],\n",
       "       [9],\n",
       "       [5],\n",
       "       [1],\n",
       "       [9],\n",
       "       [7],\n",
       "       [7],\n",
       "       [8],\n",
       "       [8]])"
      ]
     },
     "execution_count": 107,
     "metadata": {},
     "output_type": "execute_result"
    }
   ],
   "source": [
    "Z = np.random.randint(1, 10, (10,1))\n",
    "\n",
    "Z"
   ]
  },
  {
   "cell_type": "code",
   "execution_count": 112,
   "metadata": {},
   "outputs": [
    {
     "data": {
      "text/plain": [
       "array([[0.+1.j],\n",
       "       [0.+7.j],\n",
       "       [0.+9.j],\n",
       "       [0.+5.j],\n",
       "       [0.+1.j],\n",
       "       [0.+9.j],\n",
       "       [0.+7.j],\n",
       "       [0.+7.j],\n",
       "       [0.+8.j],\n",
       "       [0.+8.j]])"
      ]
     },
     "execution_count": 112,
     "metadata": {},
     "output_type": "execute_result"
    }
   ],
   "source": [
    "1j*Z"
   ]
  },
  {
   "cell_type": "markdown",
   "metadata": {},
   "source": [
    "4. Jaký je výsledek následujícího výrazu? \n",
    "   ```python\n",
    "   0 * np.nan\n",
    "   np.nan == np.nan\n",
    "   np.inf > np.nan\n",
    "   np.nan - np.nan\n",
    "   np.nan in set([np.nan])\n",
    "   0.3 == 3 * 0.1\n",
    "   ```\n"
   ]
  },
  {
   "cell_type": "code",
   "execution_count": 113,
   "metadata": {},
   "outputs": [
    {
     "data": {
      "text/plain": [
       "False"
      ]
     },
     "execution_count": 113,
     "metadata": {},
     "output_type": "execute_result"
    }
   ],
   "source": [
    "np.nan == np.nan"
   ]
  },
  {
   "cell_type": "code",
   "execution_count": 114,
   "metadata": {},
   "outputs": [
    {
     "data": {
      "text/plain": [
       "False"
      ]
     },
     "execution_count": 114,
     "metadata": {},
     "output_type": "execute_result"
    }
   ],
   "source": [
    "np.inf > np.nan"
   ]
  },
  {
   "cell_type": "markdown",
   "metadata": {},
   "source": [
    "5. Jaké jsou výsledky následujících výrazů?\n",
    "   ```python\n",
    "   np.array(0) / np.array(0)\n",
    "   np.array(0) // np.array(0)\n",
    "   np.array([np.nan]).astype(int).astype(float)\n",
    "   ```\n"
   ]
  },
  {
   "cell_type": "code",
   "execution_count": null,
   "metadata": {},
   "outputs": [],
   "source": []
  },
  {
   "cell_type": "markdown",
   "metadata": {},
   "source": [
    "\n",
    "6. Jak najít společné (stejné) hodnoty mezi dvěma poli? \n"
   ]
  },
  {
   "cell_type": "code",
   "execution_count": null,
   "metadata": {},
   "outputs": [],
   "source": []
  },
  {
   "cell_type": "markdown",
   "metadata": {},
   "source": [
    "\n",
    "7. Jak vypočítat ((A+B)*(-A/2)) přímo v poli (bez kopírování)?\n",
    "\n"
   ]
  },
  {
   "cell_type": "code",
   "execution_count": null,
   "metadata": {},
   "outputs": [],
   "source": []
  },
  {
   "cell_type": "markdown",
   "metadata": {},
   "source": [
    "\n",
    "8. Vytvořte náhodný vektor o velikosti 10 a seřaďte ho.\n"
   ]
  },
  {
   "cell_type": "code",
   "execution_count": null,
   "metadata": {},
   "outputs": [],
   "source": []
  },
  {
   "cell_type": "markdown",
   "metadata": {},
   "source": [
    "\n",
    "9. Vezměme daný vektor, jak přidat 1 ke každému prvku indexovanému druhým vektorem (dejte pozor na opakované indexy)? \n",
    "\n"
   ]
  },
  {
   "cell_type": "code",
   "execution_count": null,
   "metadata": {},
   "outputs": [],
   "source": []
  }
 ],
 "metadata": {
  "kernelspec": {
   "display_name": "Python 3",
   "language": "python",
   "name": "python3"
  },
  "language_info": {
   "codemirror_mode": {
    "name": "ipython",
    "version": 3
   },
   "file_extension": ".py",
   "mimetype": "text/x-python",
   "name": "python",
   "nbconvert_exporter": "python",
   "pygments_lexer": "ipython3",
   "version": "3.10.12"
  },
  "orig_nbformat": 4,
  "vscode": {
   "interpreter": {
    "hash": "e7370f93d1d0cde622a1f8e1c04877d8463912d04d973331ad4851f04de6915a"
   }
  }
 },
 "nbformat": 4,
 "nbformat_minor": 2
}
