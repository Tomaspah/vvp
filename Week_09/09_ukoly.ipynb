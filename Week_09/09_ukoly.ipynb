{
 "cells": [
  {
   "attachments": {},
   "cell_type": "markdown",
   "metadata": {},
   "source": [
    "# Úkoly \n",
    "## Sympy"
   ]
  },
  {
   "cell_type": "code",
   "execution_count": 5,
   "metadata": {},
   "outputs": [],
   "source": [
    "import sympy as sp\n",
    "import math"
   ]
  },
  {
   "cell_type": "markdown",
   "metadata": {},
   "source": [
    "1. Definice Symbolů\n",
    "   - Definujte symboly `a` a `b`.\n",
    "   - Definujte symboly `c` a `d` jako reálná kladná čísla.\n"
   ]
  },
  {
   "cell_type": "code",
   "execution_count": 40,
   "metadata": {},
   "outputs": [],
   "source": [
    "a = sp.Symbol('a')\n",
    "b = sp.Symbol('b')\n",
    "c = sp.Symbol('c', real=True, positive=True)\n",
    "d = sp.Symbol('d', real=True, positive=True)\n",
    "a,b,c,d\n",
    "x, y = sp.symbols('x y')\n",
    "t = sp.Symbol('t')\n"
   ]
  },
  {
   "cell_type": "markdown",
   "metadata": {},
   "source": [
    "\n",
    "2. Vytvoření Výrazu\n",
    "   - Vytvořte výraz $3a + 2b - 5$\n",
    "   - Vytvořte výraz $\\frac{a^2}{b^2} + \\cos(a^2 + b)^2 + \\sin(a^2 + b)^2$\n",
    "   - Vytiskněte oba výrazy jako LaTeXové výrazy.\n",
    "   - v obou výrazech nahraďte $a$ za $\\pi$ a $b$ za $2$ a vyhodnoťte výraz s přesností na 10 desetinných míst.\n"
   ]
  },
  {
   "cell_type": "code",
   "execution_count": 30,
   "metadata": {},
   "outputs": [
    {
     "name": "stdout",
     "output_type": "stream",
     "text": [
      "3 a + 2 b - 5\n",
      "\\frac{a^{2}}{b^{2}} + \\sin^{2}{\\left(a^{2} + b \\right)} + \\cos^{2}{\\left(a^{2} + b \\right)}\n",
      "8.42477796076938\n",
      "3.46740110027234\n"
     ]
    }
   ],
   "source": [
    "expression1 = 3*a + 2*b - 5\n",
    "expression2 = a**2/b**2 + sp.cos(a**2 + b)**2 + sp.sin(a**2 + b)**2\n",
    "print(sp.latex(expression1))\n",
    "print(sp.latex(expression2))\n",
    "\n",
    "substituce1 = expression1.subs({a: sp.pi, b: 2})\n",
    "substituce2 = expression2.subs({a: sp.pi, b: 2})\n",
    "print(sp.N(substituce1))\n",
    "print(sp.N(substituce2))"
   ]
  },
  {
   "cell_type": "markdown",
   "metadata": {},
   "source": [
    "\n",
    "3. Úpravy výrazů\n",
    "   - Vypište výraz $(a + b)^5$ pomocí jednotlivých mnohočlnů (expandujte).\n",
    "   - Faktorizujte výraz $a^6 - b^6$.\n",
    "   - Zjednodušte výraz $\\sin^{6}{\\left(a + b \\right)} + 3 \\sin^{4}{\\left(a + b \\right)} \\cos^{2}{\\left(a + b \\right)} + 3 \\sin^{2}{\\left(a + b \\right)} \\cos^{4}{\\left(a + b \\right)} + \\cos^{6}{\\left(a + b \\right)}$\n",
    "\n"
   ]
  },
  {
   "cell_type": "code",
   "execution_count": 34,
   "metadata": {},
   "outputs": [
    {
     "data": {
      "text/latex": [
       "$\\displaystyle a^{5} + 5 a^{4} b + 10 a^{3} b^{2} + 10 a^{2} b^{3} + 5 a b^{4} + b^{5}$"
      ],
      "text/plain": [
       "a**5 + 5*a**4*b + 10*a**3*b**2 + 10*a**2*b**3 + 5*a*b**4 + b**5"
      ]
     },
     "metadata": {},
     "output_type": "display_data"
    },
    {
     "data": {
      "text/latex": [
       "$\\displaystyle \\left(a - b\\right) \\left(a + b\\right) \\left(a^{2} - a b + b^{2}\\right) \\left(a^{2} + a b + b^{2}\\right)$"
      ],
      "text/plain": [
       "(a - b)*(a + b)*(a**2 - a*b + b**2)*(a**2 + a*b + b**2)"
      ]
     },
     "metadata": {},
     "output_type": "display_data"
    }
   ],
   "source": [
    "exp1 = (a + b)**5\n",
    "vys1 = sp.expand(exp1)\n",
    "display(vys1)\n",
    "\n",
    "exp2 = a**6 - b**6\n",
    "vys2 = sp.factor(exp2)\n",
    "display(vys2)"
   ]
  },
  {
   "cell_type": "code",
   "execution_count": 36,
   "metadata": {},
   "outputs": [
    {
     "data": {
      "text/latex": [
       "$\\displaystyle 1$"
      ],
      "text/plain": [
       "1"
      ]
     },
     "metadata": {},
     "output_type": "display_data"
    }
   ],
   "source": [
    "exp3 = sp.sin(a + b)**6 + 3*sp.sin(a + b)**4*sp.cos(a + b)**2 + 3*sp.sin(a + b)**2*sp.cos(a + b)**4 + sp.cos(a + b)**6\n",
    "vys3 = sp.simplify(exp3)\n",
    "display(vys3)"
   ]
  },
  {
   "cell_type": "markdown",
   "metadata": {},
   "source": [
    "4. Derivace a Integrace\n",
    "   - Najděte derivaci výrazu $a^2 + 3ab + b^2$ podle `a`.\n",
    "   - Spočtěte $$ \\intop_{-\\infty}^{t} e^{-x^2} dx$$\n",
    "   - Spočtěte integrál funkce $f(x) = 1-x-y$ přes pravoúhlý trojuhelník s vrcholy $[0, 0]$, $[1, 0]$, $[0, 1]$; tedy $$ \\intop_{0}^{1} \\intop_{0}^{1-y} 1-x-y ~~ dx dy$$\n"
   ]
  },
  {
   "cell_type": "code",
   "execution_count": 37,
   "metadata": {},
   "outputs": [
    {
     "data": {
      "text/latex": [
       "$\\displaystyle 2 a + 3 b$"
      ],
      "text/plain": [
       "2*a + 3*b"
      ]
     },
     "metadata": {},
     "output_type": "display_data"
    }
   ],
   "source": [
    "expr1 = a**2 + 3*a*b + b**2\n",
    "vys1 = sp.diff(expr1, a)\n",
    "display(vys1)"
   ]
  },
  {
   "cell_type": "code",
   "execution_count": 41,
   "metadata": {},
   "outputs": [
    {
     "data": {
      "text/latex": [
       "$\\displaystyle \\frac{\\sqrt{\\pi} \\operatorname{erf}{\\left(t \\right)}}{2} + \\frac{\\sqrt{\\pi}}{2}$"
      ],
      "text/plain": [
       "sqrt(pi)*erf(t)/2 + sqrt(pi)/2"
      ]
     },
     "metadata": {},
     "output_type": "display_data"
    }
   ],
   "source": [
    "expr2 = sp.exp(-x**2)\n",
    "vys2 = sp.integrate(expr2, (x, -sp.oo, t))\n",
    "display(vys2)"
   ]
  },
  {
   "cell_type": "code",
   "execution_count": 46,
   "metadata": {},
   "outputs": [
    {
     "data": {
      "text/latex": [
       "$\\displaystyle \\frac{1}{6}$"
      ],
      "text/plain": [
       "1/6"
      ]
     },
     "execution_count": 46,
     "metadata": {},
     "output_type": "execute_result"
    }
   ],
   "source": [
    "expr3 = 1 - x - y\n",
    "sp.integrate(expr3, (x, 0, 1-y), (y, 0, 1))\n",
    "sp.integrate(expr3, (y, 0, 1-x), (x, 0, 1))\n"
   ]
  },
  {
   "cell_type": "markdown",
   "metadata": {},
   "source": [
    "5. Řešení Rovnic\n",
    "    - Najděte řešení rovnice $a^2 - 5a + 6 = 0$ vzhledem k `a`.\n",
    "    - Najděte řešení soustavy rovnic $$ a + b = 5 $$ $$ a - b = 1 $$ vzhledem k `a` a `b`.\n",
    "    - Nalezněte všechny kořeny Legendrova polynomu stupně 5. Použíjte `sympy.legendre()` pro vytvoření výrazu odpovídajícímu Legendrovu polynomu.\n",
    "    "
   ]
  },
  {
   "cell_type": "code",
   "execution_count": 47,
   "metadata": {},
   "outputs": [
    {
     "data": {
      "text/plain": [
       "[-3, -2]"
      ]
     },
     "execution_count": 47,
     "metadata": {},
     "output_type": "execute_result"
    }
   ],
   "source": [
    "sp.solve(a**2 + 5*a + 6, a)"
   ]
  },
  {
   "cell_type": "code",
   "execution_count": 49,
   "metadata": {},
   "outputs": [
    {
     "data": {
      "text/plain": [
       "{a: 3, b: 2}"
      ]
     },
     "execution_count": 49,
     "metadata": {},
     "output_type": "execute_result"
    }
   ],
   "source": [
    "rov1 = sp.Eq(a + b, 5)\n",
    "rov2 = sp.Eq(a - b, 1)\n",
    "res = sp.solve([rov1, rov2], (a, b))\n",
    "res"
   ]
  },
  {
   "cell_type": "code",
   "execution_count": 52,
   "metadata": {},
   "outputs": [
    {
     "data": {
      "text/plain": [
       "[0,\n",
       " -sqrt(5/9 - 2*sqrt(70)/63),\n",
       " sqrt(5/9 - 2*sqrt(70)/63),\n",
       " -sqrt(2*sqrt(70)/63 + 5/9),\n",
       " sqrt(2*sqrt(70)/63 + 5/9)]"
      ]
     },
     "execution_count": 52,
     "metadata": {},
     "output_type": "execute_result"
    }
   ],
   "source": [
    "L5 = sp.legendre(5, x)\n",
    "sp.solve(L5, x)"
   ]
  },
  {
   "cell_type": "markdown",
   "metadata": {},
   "source": [
    "6. Generování kódu\n",
    "    - Vytvořte výraz $\\sin(a) + \\cos(b)$, vygenerujte Pythoní funkci a vykreslete pomocí matplotlib na oblasti $a \\in [0, 2\\pi]$ a $b \\in [0, 2\\pi]$."
   ]
  },
  {
   "cell_type": "code",
   "execution_count": 54,
   "metadata": {},
   "outputs": [],
   "source": [
    "import numpy as np\n",
    "import matplotlib.pyplot as plt"
   ]
  },
  {
   "cell_type": "code",
   "execution_count": 56,
   "metadata": {},
   "outputs": [
    {
     "name": "stdout",
     "output_type": "stream",
     "text": [
      "<function _lambdifygenerated at 0x7f9d120a29e0>\n"
     ]
    },
    {
     "data": {
      "text/plain": [
       "<matplotlib.colorbar.Colorbar at 0x7f9d120bffa0>"
      ]
     },
     "execution_count": 56,
     "metadata": {},
     "output_type": "execute_result"
    },
    {
     "data": {
      "image/png": "[encoded data removed]",
      "text/plain": [
       "<Figure size 432x288 with 2 Axes>"
      ]
     },
     "metadata": {
      "needs_background": "light"
     },
     "output_type": "display_data"
    }
   ],
   "source": [
    "exp = sp.sin(a) + sp.cos(b)\n",
    "f_x = sp.lambdify((a, b), exp, modules='numpy')\n",
    "print(f_x)\n",
    "\n",
    "x = np.linspace(0, 2*np.pi, 100)\n",
    "y = np.linspace(0, 2*np.pi, 100)\n",
    "X, Y = np.meshgrid(x, y)\n",
    "Z = f_x(X, Y)\n",
    "fig = plt.figure()\n",
    "plt.pcolormesh(X, Y, Z, cmap='plasma')\n",
    "plt.colorbar()\n"
   ]
  },
  {
   "cell_type": "markdown",
   "metadata": {},
   "source": [
    "## Pandas\n",
    "1. Pomocí Pandas načtěte data ze souboru `aku.csv` zkontrolujte si zprávnost vypsáním prvních šesti řádků.\n",
    "2. Vypište základní statistiky pro každý sloupec.\n",
    "3. Vykreslete histogramy pomocí `seaborn` pro aloupce `A5` a `A100`."
   ]
  },
  {
   "cell_type": "code",
   "execution_count": 60,
   "metadata": {},
   "outputs": [
    {
     "data": {
      "text/html": [
       "<div>\n",
       "<style scoped>\n",
       "    .dataframe tbody tr th:only-of-type {\n",
       "        vertical-align: middle;\n",
       "    }\n",
       "\n",
       "    .dataframe tbody tr th {\n",
       "        vertical-align: top;\n",
       "    }\n",
       "\n",
       "    .dataframe thead th {\n",
       "        text-align: right;\n",
       "    }\n",
       "</style>\n",
       "<table border=\"1\" class=\"dataframe\">\n",
       "  <thead>\n",
       "    <tr style=\"text-align: right;\">\n",
       "      <th></th>\n",
       "      <th>A5</th>\n",
       "      <th>B5</th>\n",
       "      <th>C5</th>\n",
       "      <th>D5</th>\n",
       "      <th>A100</th>\n",
       "      <th>B100</th>\n",
       "      <th>C100</th>\n",
       "      <th>D100</th>\n",
       "    </tr>\n",
       "  </thead>\n",
       "  <tbody>\n",
       "    <tr>\n",
       "      <th>0</th>\n",
       "      <td>1946.5</td>\n",
       "      <td>2006.5</td>\n",
       "      <td>1881.8</td>\n",
       "      <td>1806.9</td>\n",
       "      <td>1780.4</td>\n",
       "      <td>1654.2</td>\n",
       "      <td>1663.3</td>\n",
       "      <td>1668.4</td>\n",
       "    </tr>\n",
       "    <tr>\n",
       "      <th>1</th>\n",
       "      <td>1963.5</td>\n",
       "      <td>1991.5</td>\n",
       "      <td>1890.4</td>\n",
       "      <td>1788.1</td>\n",
       "      <td>1751.4</td>\n",
       "      <td>1663.1</td>\n",
       "      <td>1641.1</td>\n",
       "      <td>1641.9</td>\n",
       "    </tr>\n",
       "    <tr>\n",
       "      <th>2</th>\n",
       "      <td>1934.3</td>\n",
       "      <td>1988.8</td>\n",
       "      <td>1865.7</td>\n",
       "      <td>1775.0</td>\n",
       "      <td>1743.5</td>\n",
       "      <td>1633.3</td>\n",
       "      <td>1621.5</td>\n",
       "      <td>1620.0</td>\n",
       "    </tr>\n",
       "    <tr>\n",
       "      <th>3</th>\n",
       "      <td>1934.8</td>\n",
       "      <td>1975.4</td>\n",
       "      <td>1880.7</td>\n",
       "      <td>1805.4</td>\n",
       "      <td>1727.4</td>\n",
       "      <td>1642.2</td>\n",
       "      <td>1610.7</td>\n",
       "      <td>1685.8</td>\n",
       "    </tr>\n",
       "    <tr>\n",
       "      <th>4</th>\n",
       "      <td>1939.9</td>\n",
       "      <td>1998.4</td>\n",
       "      <td>1861.1</td>\n",
       "      <td>1775.7</td>\n",
       "      <td>1728.8</td>\n",
       "      <td>1656.7</td>\n",
       "      <td>1624.6</td>\n",
       "      <td>1610.5</td>\n",
       "    </tr>\n",
       "  </tbody>\n",
       "</table>\n",
       "</div>"
      ],
      "text/plain": [
       "       A5      B5      C5      D5    A100    B100    C100    D100\n",
       "0  1946.5  2006.5  1881.8  1806.9  1780.4  1654.2  1663.3  1668.4\n",
       "1  1963.5  1991.5  1890.4  1788.1  1751.4  1663.1  1641.1  1641.9\n",
       "2  1934.3  1988.8  1865.7  1775.0  1743.5  1633.3  1621.5  1620.0\n",
       "3  1934.8  1975.4  1880.7  1805.4  1727.4  1642.2  1610.7  1685.8\n",
       "4  1939.9  1998.4  1861.1  1775.7  1728.8  1656.7  1624.6  1610.5"
      ]
     },
     "execution_count": 60,
     "metadata": {},
     "output_type": "execute_result"
    }
   ],
   "source": [
    "import pandas as pd\n",
    "import seaborn as sb\n",
    "\n",
    "data = pd.read_csv('aku.csv', sep=';', decimal=',')\n",
    "data.head()"
   ]
  },
  {
   "cell_type": "code",
   "execution_count": 59,
   "metadata": {},
   "outputs": [
    {
     "data": {
      "text/html": [
       "<div>\n",
       "<style scoped>\n",
       "    .dataframe tbody tr th:only-of-type {\n",
       "        vertical-align: middle;\n",
       "    }\n",
       "\n",
       "    .dataframe tbody tr th {\n",
       "        vertical-align: top;\n",
       "    }\n",
       "\n",
       "    .dataframe thead th {\n",
       "        text-align: right;\n",
       "    }\n",
       "</style>\n",
       "<table border=\"1\" class=\"dataframe\">\n",
       "  <thead>\n",
       "    <tr style=\"text-align: right;\">\n",
       "      <th></th>\n",
       "      <th>A5</th>\n",
       "      <th>B5</th>\n",
       "      <th>C5</th>\n",
       "      <th>D5</th>\n",
       "      <th>A100</th>\n",
       "      <th>B100</th>\n",
       "      <th>C100</th>\n",
       "      <th>D100</th>\n",
       "    </tr>\n",
       "  </thead>\n",
       "  <tbody>\n",
       "    <tr>\n",
       "      <th>count</th>\n",
       "      <td>86.000000</td>\n",
       "      <td>86.000000</td>\n",
       "      <td>70.000000</td>\n",
       "      <td>79.000000</td>\n",
       "      <td>86.000000</td>\n",
       "      <td>86.000000</td>\n",
       "      <td>70.000000</td>\n",
       "      <td>79.000000</td>\n",
       "    </tr>\n",
       "    <tr>\n",
       "      <th>mean</th>\n",
       "      <td>1949.717442</td>\n",
       "      <td>2000.781395</td>\n",
       "      <td>1899.395714</td>\n",
       "      <td>1797.044304</td>\n",
       "      <td>1753.925581</td>\n",
       "      <td>1651.572093</td>\n",
       "      <td>1650.200000</td>\n",
       "      <td>1650.397468</td>\n",
       "    </tr>\n",
       "    <tr>\n",
       "      <th>std</th>\n",
       "      <td>28.874190</td>\n",
       "      <td>11.541154</td>\n",
       "      <td>20.233968</td>\n",
       "      <td>34.725789</td>\n",
       "      <td>34.636503</td>\n",
       "      <td>15.284076</td>\n",
       "      <td>29.340949</td>\n",
       "      <td>38.490335</td>\n",
       "    </tr>\n",
       "    <tr>\n",
       "      <th>min</th>\n",
       "      <td>1884.400000</td>\n",
       "      <td>1974.100000</td>\n",
       "      <td>1848.400000</td>\n",
       "      <td>1650.300000</td>\n",
       "      <td>1684.600000</td>\n",
       "      <td>1615.700000</td>\n",
       "      <td>1593.700000</td>\n",
       "      <td>1558.500000</td>\n",
       "    </tr>\n",
       "    <tr>\n",
       "      <th>25%</th>\n",
       "      <td>1931.825000</td>\n",
       "      <td>1994.175000</td>\n",
       "      <td>1887.075000</td>\n",
       "      <td>1775.900000</td>\n",
       "      <td>1726.950000</td>\n",
       "      <td>1642.125000</td>\n",
       "      <td>1628.700000</td>\n",
       "      <td>1626.600000</td>\n",
       "    </tr>\n",
       "    <tr>\n",
       "      <th>50%</th>\n",
       "      <td>1948.900000</td>\n",
       "      <td>2001.200000</td>\n",
       "      <td>1898.900000</td>\n",
       "      <td>1793.400000</td>\n",
       "      <td>1756.800000</td>\n",
       "      <td>1653.400000</td>\n",
       "      <td>1652.650000</td>\n",
       "      <td>1644.000000</td>\n",
       "    </tr>\n",
       "    <tr>\n",
       "      <th>75%</th>\n",
       "      <td>1966.100000</td>\n",
       "      <td>2009.850000</td>\n",
       "      <td>1911.550000</td>\n",
       "      <td>1820.150000</td>\n",
       "      <td>1780.000000</td>\n",
       "      <td>1663.400000</td>\n",
       "      <td>1667.500000</td>\n",
       "      <td>1683.050000</td>\n",
       "    </tr>\n",
       "    <tr>\n",
       "      <th>max</th>\n",
       "      <td>2030.000000</td>\n",
       "      <td>2030.900000</td>\n",
       "      <td>1942.500000</td>\n",
       "      <td>1872.200000</td>\n",
       "      <td>1838.700000</td>\n",
       "      <td>1680.700000</td>\n",
       "      <td>1713.600000</td>\n",
       "      <td>1725.700000</td>\n",
       "    </tr>\n",
       "  </tbody>\n",
       "</table>\n",
       "</div>"
      ],
      "text/plain": [
       "                A5           B5           C5           D5         A100  \\\n",
       "count    86.000000    86.000000    70.000000    79.000000    86.000000   \n",
       "mean   1949.717442  2000.781395  1899.395714  1797.044304  1753.925581   \n",
       "std      28.874190    11.541154    20.233968    34.725789    34.636503   \n",
       "min    1884.400000  1974.100000  1848.400000  1650.300000  1684.600000   \n",
       "25%    1931.825000  1994.175000  1887.075000  1775.900000  1726.950000   \n",
       "50%    1948.900000  2001.200000  1898.900000  1793.400000  1756.800000   \n",
       "75%    1966.100000  2009.850000  1911.550000  1820.150000  1780.000000   \n",
       "max    2030.000000  2030.900000  1942.500000  1872.200000  1838.700000   \n",
       "\n",
       "              B100         C100         D100  \n",
       "count    86.000000    70.000000    79.000000  \n",
       "mean   1651.572093  1650.200000  1650.397468  \n",
       "std      15.284076    29.340949    38.490335  \n",
       "min    1615.700000  1593.700000  1558.500000  \n",
       "25%    1642.125000  1628.700000  1626.600000  \n",
       "50%    1653.400000  1652.650000  1644.000000  \n",
       "75%    1663.400000  1667.500000  1683.050000  \n",
       "max    1680.700000  1713.600000  1725.700000  "
      ]
     },
     "execution_count": 59,
     "metadata": {},
     "output_type": "execute_result"
    }
   ],
   "source": [
    "data.describe()"
   ]
  },
  {
   "cell_type": "code",
   "execution_count": 63,
   "metadata": {},
   "outputs": [
    {
     "data": {
      "image/png": "[encoded data removed]",
      "text/plain": [
       "<Figure size 432x288 with 1 Axes>"
      ]
     },
     "metadata": {
      "needs_background": "light"
     },
     "output_type": "display_data"
    }
   ],
   "source": [
    "sb.histplot(data, x=\"A100\")\n",
    "\n",
    "bins = np.arange(1684, 2031)"
   ]
  }
 ],
 "metadata": {
  "kernelspec": {
   "display_name": "Python 3",
   "language": "python",
   "name": "python3"
  },
  "language_info": {
   "codemirror_mode": {
    "name": "ipython",
    "version": 3
   },
   "file_extension": ".py",
   "mimetype": "text/x-python",
   "name": "python",
   "nbconvert_exporter": "python",
   "pygments_lexer": "ipython3",
   "version": "3.10.12"
  },
  "orig_nbformat": 4
 },
 "nbformat": 4,
 "nbformat_minor": 2
}
