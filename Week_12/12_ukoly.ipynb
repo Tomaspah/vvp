{
 "cells": [
  {
   "cell_type": "markdown",
   "metadata": {},
   "source": [
    "# Úkoly:\n",
    "1. Pomocí Numpy a Numby napište maticové násobení dvou čtvercových matic.\n",
    "    - Výsledek ukládejte do předem vytvořené matice C, tedy funkce bude mít tvar `def matrix_multiplication(A, B, C)`.\n",
    "    - Zakompilujte funkci a na maticích o velikosti 1000x1000 změřte čas výpočtu maticového násobení.\n",
    "    - Porovnejte výsledek s výsledkem z Numpy.\n"
   ]
  },
  {
   "cell_type": "code",
   "execution_count": 1,
   "metadata": {},
   "outputs": [],
   "source": [
    "import numpy as np\n",
    "import numba\n",
    "import math"
   ]
  },
  {
   "cell_type": "code",
   "execution_count": 2,
   "metadata": {},
   "outputs": [],
   "source": [
    "n = 1000\n",
    "\n",
    "A = np.random.rand(n, n)\n",
    "B = np.random.rand(n, n)\n",
    "C = np.zeros((n, n), dtype=np.float64)"
   ]
  },
  {
   "cell_type": "code",
   "execution_count": 3,
   "metadata": {},
   "outputs": [],
   "source": [
    "def matrix_multiply(A, B, C):\n",
    "    for i in range(n):\n",
    "        for k in range(n):\n",
    "            for j in range(n):\n",
    "                C[i, j] += A[i, k] * B[k, j]"
   ]
  },
  {
   "cell_type": "code",
   "execution_count": 4,
   "metadata": {},
   "outputs": [],
   "source": [
    "matrix_multiply_jitted = numba.jit(matrix_multiply, nopython=True)"
   ]
  },
  {
   "cell_type": "code",
   "execution_count": 5,
   "metadata": {},
   "outputs": [
    {
     "name": "stdout",
     "output_type": "stream",
     "text": [
      "CPU times: user 1.21 s, sys: 20.1 ms, total: 1.23 s\n",
      "Wall time: 1.02 s\n"
     ]
    }
   ],
   "source": [
    "%time matrix_multiply_jitted(A, B, C)"
   ]
  },
  {
   "cell_type": "code",
   "execution_count": 7,
   "metadata": {},
   "outputs": [
    {
     "name": "stdout",
     "output_type": "stream",
     "text": [
      "CPU times: user 104 ms, sys: 4.25 ms, total: 109 ms\n",
      "Wall time: 44.8 ms\n"
     ]
    },
    {
     "data": {
      "text/plain": [
       "array([[257.1423091 , 258.73470498, 252.11213296, ..., 245.44149976,\n",
       "        249.15237933, 250.60057032],\n",
       "       [243.85566761, 246.53479724, 252.967652  , ..., 243.3602125 ,\n",
       "        248.92440703, 243.28646382],\n",
       "       [249.93624277, 254.59866034, 255.47037946, ..., 246.71918673,\n",
       "        261.44311705, 255.66891865],\n",
       "       ...,\n",
       "       [251.43595322, 257.48564482, 255.26633517, ..., 246.39751385,\n",
       "        255.7882276 , 254.82178154],\n",
       "       [252.04134528, 254.342169  , 250.33986999, ..., 244.59918244,\n",
       "        256.96508296, 252.86870092],\n",
       "       [247.76491265, 249.03669752, 250.22121626, ..., 242.54877997,\n",
       "        246.1260055 , 243.83282308]], shape=(1000, 1000))"
      ]
     },
     "execution_count": 7,
     "metadata": {},
     "output_type": "execute_result"
    }
   ],
   "source": [
    "%time np.dot(A, B, out=C)"
   ]
  },
  {
   "cell_type": "code",
   "execution_count": 6,
   "metadata": {},
   "outputs": [],
   "source": [
    "@numba.jit(nopython=True, parallel=True)\n",
    "def numba_matrix_multiply(A, B, C):\n",
    "    for i in numba.prange(n):\n",
    "        for k in numba.prange(n):\n",
    "            for j in numba.prange(n):\n",
    "                C[i, j] += A[i, k] * B[k, j]"
   ]
  },
  {
   "cell_type": "code",
   "execution_count": 7,
   "metadata": {},
   "outputs": [
    {
     "name": "stderr",
     "output_type": "stream",
     "text": [
      "/home/fei/pah0008/VVP/.venv/lib/python3.10/site-packages/numba/np/ufunc/parallel.py:371: NumbaWarning: The TBB threading layer requires TBB version 2021 update 6 or later i.e., TBB_INTERFACE_VERSION >= 12060. Found TBB_INTERFACE_VERSION = 12050. The TBB threading layer is disabled.\n",
      "  warnings.warn(problem)\n"
     ]
    },
    {
     "name": "stdout",
     "output_type": "stream",
     "text": [
      "CPU times: user 1.06 s, sys: 4.24 ms, total: 1.06 s\n",
      "Wall time: 603 ms\n"
     ]
    }
   ],
   "source": [
    "%time numba_matrix_multiply(A, B, C)"
   ]
  },
  {
   "cell_type": "markdown",
   "metadata": {},
   "source": [
    "\n",
    "2. Upravte kód tak, aby výpočet probíhal v tzv. Chunk módu. To znamená, že výpočet bude rozdělen do menších bloků, které budou postupně počítány. Výsledek bude stejný jako v bodě 1, ale výpočet bude probíhat v menších blocích.\n",
    "    - výsledný kód bude mít 6 vnořených for cyklů \n",
    "        - nejprve 3 přes chunky v každé z OS (i,j,k)\n",
    "        - ve vnitř 3 cykly přes prvky v každém chunku\n",
    "    - zakompilujte, očasujte, a porovnejte s výsledkem z bodu 1 a s výsledkem z Numpy.\n"
   ]
  },
  {
   "cell_type": "code",
   "execution_count": 8,
   "metadata": {},
   "outputs": [],
   "source": [
    "n = 128*16\n",
    "\n",
    "A = np.random.rand(n, n)\n",
    "B = np.random.rand(n, n)\n",
    "C_numba = np.zeros((n, n), dtype=np.float64)"
   ]
  },
  {
   "cell_type": "code",
   "execution_count": 33,
   "metadata": {},
   "outputs": [],
   "source": [
    "def chunk_matrix_multiply(A, B, C):\n",
    "    chunk_size = 128\n",
    "    n_chunks = A.shape[0] // chunk_size\n",
    "    for i_chunk in numba.prange(n_chunks):\n",
    "        for k_chunk in numba.prange(n_chunks):\n",
    "            for j_chunk in numba.prange(n_chunks):\n",
    "                for i in range(i_chunk*chunk_size, (i_chunk + 1)*chunk_size):\n",
    "                    for k in range(k_chunk*chunk_size, (k_chunk + 1)*chunk_size):\n",
    "                        for j in range(j_chunk*chunk_size, (j_chunk + 1)*chunk_size):\n",
    "                            C[i, j] += A[i, k] * B[k, j]"
   ]
  },
  {
   "cell_type": "code",
   "execution_count": 35,
   "metadata": {},
   "outputs": [
    {
     "name": "stdout",
     "output_type": "stream",
     "text": [
      "CPU times: user 8.99 s, sys: 7.92 ms, total: 9 s\n",
      "Wall time: 2.89 s\n"
     ]
    }
   ],
   "source": [
    "chunk_matrix_multiply_jitted = numba.jit(chunk_matrix_multiply, nopython=True, parallel=True)\n",
    "%time chunk_matrix_multiply_jitted(A, B, C_numba)"
   ]
  },
  {
   "cell_type": "code",
   "execution_count": 24,
   "metadata": {},
   "outputs": [
    {
     "name": "stdout",
     "output_type": "stream",
     "text": [
      "CPU times: user 805 ms, sys: 3.86 ms, total: 809 ms\n",
      "Wall time: 314 ms\n"
     ]
    }
   ],
   "source": [
    "%time numba_matrix_multiply(A, B, C_numba)"
   ]
  },
  {
   "cell_type": "markdown",
   "metadata": {},
   "source": [
    "\n",
    "3. Upravte funkci tak ať výpočet probíhá paralelně, otestujte jaký vliv má když jednotlivé z vnějších smyček nastavíte jako paralelní.\n",
    "    - opět porovnejte výsledky s výsledkem z Numpy a s výsledkem z bodu 1 a 2."
   ]
  }
 ],
 "metadata": {
  "kernelspec": {
   "display_name": ".venv",
   "language": "python",
   "name": "python3"
  },
  "language_info": {
   "codemirror_mode": {
    "name": "ipython",
    "version": 3
   },
   "file_extension": ".py",
   "mimetype": "text/x-python",
   "name": "python",
   "nbconvert_exporter": "python",
   "pygments_lexer": "ipython3",
   "version": "3.10.12"
  }
 },
 "nbformat": 4,
 "nbformat_minor": 2
}
