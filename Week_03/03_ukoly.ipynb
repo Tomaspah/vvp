{
 "cells": [
  {
   "cell_type": "markdown",
   "metadata": {},
   "source": [
    "# Lambda funkce a řízení toku programu\n",
    "\n",
    "\n",
    "**1. Lambda funkce:**\n",
    "\n",
    "Napište lambda funkci, která spočítá součin dvou čísel.\n"
   ]
  },
  {
   "cell_type": "code",
   "execution_count": 1,
   "metadata": {},
   "outputs": [
    {
     "data": {
      "text/plain": [
       "15"
      ]
     },
     "execution_count": 1,
     "metadata": {},
     "output_type": "execute_result"
    }
   ],
   "source": [
    "soucet = lambda a, b: a + b\n",
    "soucet(10,5)"
   ]
  },
  {
   "cell_type": "markdown",
   "metadata": {},
   "source": [
    "\n",
    "**2. Lambda funkce a ternární operátor:**\n",
    "\n",
    "Napište lambda funkci, která vrátí \"sudé\" pro sudá čísla a \"liché\" pro lichá čísla.\n"
   ]
  },
  {
   "cell_type": "code",
   "execution_count": 3,
   "metadata": {},
   "outputs": [
    {
     "name": "stdout",
     "output_type": "stream",
     "text": [
      "Liche\n",
      "Sude\n"
     ]
    }
   ],
   "source": [
    "sude_liche = lambda x: print(\"Sude\") if x % 2 == 0 else print(\"Liche\")\n",
    "sude_liche(7)\n",
    "sude_liche(10)"
   ]
  },
  {
   "cell_type": "markdown",
   "metadata": {},
   "source": [
    "\n",
    "**3. Rekurze:**\n",
    "\n",
    "Napište lambda funkci pro výpočet součtu 1 až n (n je vstupem).\n"
   ]
  },
  {
   "cell_type": "code",
   "execution_count": 7,
   "metadata": {},
   "outputs": [
    {
     "data": {
      "text/plain": [
       "3"
      ]
     },
     "execution_count": 7,
     "metadata": {},
     "output_type": "execute_result"
    }
   ],
   "source": [
    "suma = lambda x: 1 if x == 1 else x + suma(x-1)\n",
    "suma(2)"
   ]
  },
  {
   "cell_type": "markdown",
   "metadata": {},
   "source": [
    "\n",
    "**4. For cyklus, enumerate:**\n",
    "\n",
    "Vypište postupně všechna písmena řetězce \"Ahoj světe!\" a jejich pozici v řetězci.\n"
   ]
  },
  {
   "cell_type": "code",
   "execution_count": 8,
   "metadata": {},
   "outputs": [
    {
     "name": "stdout",
     "output_type": "stream",
     "text": [
      "A\n",
      "h\n",
      "o\n",
      "j\n",
      " \n",
      "s\n",
      "v\n",
      "e\n",
      "t\n",
      "e\n",
      "!\n"
     ]
    }
   ],
   "source": [
    "retezec = \"Ahoj svete!\"\n",
    "for pismena in retezec:\n",
    "    print(pismena)"
   ]
  },
  {
   "cell_type": "markdown",
   "metadata": {},
   "source": [
    "\n",
    "**5. For cyklus s `break`:**\n",
    "\n",
    "Vypište první tři prvky seznamu `[1, 2, 3, 4, 5]`.\n"
   ]
  },
  {
   "cell_type": "code",
   "execution_count": 9,
   "metadata": {},
   "outputs": [
    {
     "name": "stdout",
     "output_type": "stream",
     "text": [
      "1\n",
      "2\n",
      "3\n"
     ]
    }
   ],
   "source": [
    "list = [1,2,3,4,5]\n",
    "for index, cisla in enumerate(list):\n",
    "    if index > 2:\n",
    "        break\n",
    "    print(cisla)"
   ]
  },
  {
   "cell_type": "markdown",
   "metadata": {},
   "source": [
    "\n",
    "**6. For cyklus s `else`:**\n",
    "\n",
    "Vypište první tři prvky seznamu, pokud je seznam o délce 3 a kratší, vypište na závěr \"Krátký seznam!\".\n",
    "\n",
    "Vyzkoušejte na  `[1, 2, 3, 4, 5]` a `[1, 2]`.\n"
   ]
  },
  {
   "cell_type": "code",
   "execution_count": 16,
   "metadata": {},
   "outputs": [
    {
     "name": "stdout",
     "output_type": "stream",
     "text": [
      "1\n",
      "2\n",
      "Kratky seznam\n"
     ]
    }
   ],
   "source": [
    "list2 = [1,2]\n",
    "for index, cisla in enumerate(list2):\n",
    "    if index > 2:\n",
    "        break\n",
    "    print(cisla)\n",
    "else:\n",
    "    print(\"Kratky seznam\")\n",
    "\n",
    "\n"
   ]
  },
  {
   "cell_type": "markdown",
   "metadata": {},
   "source": [
    "\n",
    "**7. For cyklus s `continue`:**\n",
    "\n",
    "Vypište všechny sudá čísla ze seznamu `[1, 2, 3, 4, 5]`.\n"
   ]
  },
  {
   "cell_type": "code",
   "execution_count": 19,
   "metadata": {},
   "outputs": [
    {
     "name": "stdout",
     "output_type": "stream",
     "text": [
      "2\n",
      "4\n",
      "Cyklus dokoncen\n"
     ]
    }
   ],
   "source": [
    "for cislo in list:\n",
    "    if cislo % 2 == 1:\n",
    "        continue\n",
    "    \n",
    "    print(cislo)\n",
    "else:\n",
    "    print(\"Cyklus dokoncen\")\n"
   ]
  },
  {
   "cell_type": "markdown",
   "metadata": {},
   "source": [
    "\n",
    "**8. Krátce k iterovatelným objektům:**\n",
    "\n",
    "Uveďte 5 příkladů iterovatelných objektů (např. `string`, `list`, ...). Pomocí for cyklu vypište všechny prvky každého objektu.\n"
   ]
  },
  {
   "cell_type": "code",
   "execution_count": 20,
   "metadata": {},
   "outputs": [
    {
     "name": "stdout",
     "output_type": "stream",
     "text": [
      "1\n",
      "2\n",
      "3\n",
      "4\n",
      "5\n"
     ]
    }
   ],
   "source": [
    "tuple = (1,2,3,4,5)\n",
    "for item in tuple:\n",
    "    print(item)"
   ]
  },
  {
   "cell_type": "code",
   "execution_count": null,
   "metadata": {},
   "outputs": [],
   "source": []
  },
  {
   "cell_type": "code",
   "execution_count": null,
   "metadata": {},
   "outputs": [],
   "source": []
  },
  {
   "cell_type": "code",
   "execution_count": null,
   "metadata": {},
   "outputs": [],
   "source": []
  },
  {
   "cell_type": "code",
   "execution_count": null,
   "metadata": {},
   "outputs": [],
   "source": []
  },
  {
   "cell_type": "markdown",
   "metadata": {},
   "source": [
    "\n",
    "**9. Iterování přes slovník:**\n",
    "\n",
    "Pro slovník `{'a': 1, 'b': 2, 'c': 3}` vypište vždy na řádek klíč a hodnotu. (Použijte metodu `items`.)"
   ]
  },
  {
   "cell_type": "code",
   "execution_count": 25,
   "metadata": {},
   "outputs": [
    {
     "name": "stdout",
     "output_type": "stream",
     "text": [
      "a\n",
      "b\n",
      "c\n"
     ]
    }
   ],
   "source": [
    "slovnik = {'a': 1, 'b': 2, 'c': 3}\n",
    "for klic in slovnik:\n",
    "    print(items)"
   ]
  },
  {
   "cell_type": "markdown",
   "metadata": {},
   "source": [
    "\n",
    "**10. Zip:**\n",
    "\n",
    "Zabalte seznamy `[\"a\", \"b\", \"c\"]` a `[1, 2, 3]` do jednoho iterátoru pomocí funkce `zip` a vypište všechny dvojice.\n"
   ]
  },
  {
   "cell_type": "code",
   "execution_count": null,
   "metadata": {},
   "outputs": [],
   "source": []
  },
  {
   "cell_type": "markdown",
   "metadata": {},
   "source": [
    "\n",
    "**11. While cyklus:**\n",
    "\n",
    "Při počátečním vkladu 10000 Kč, roční úrokové sazbě 9 % (peníze vždy přibydou na konci roku) a ročním vkladu 1000 Kč (vkládáme vždy na začátku roku, počínaje hned prvním, tedy ze začátku dáme na účet 11000 Kč), kolik let bude trvat, než budeme mít na učtě milion Kč? "
   ]
  },
  {
   "cell_type": "code",
   "execution_count": 22,
   "metadata": {},
   "outputs": [
    {
     "name": "stdout",
     "output_type": "stream",
     "text": [
      "Zustatek uctu: 11990.0 po 1 letech\n",
      "Zustatek uctu: 14159.1 po 2 letech\n",
      "Zustatek uctu: 16523.419 po 3 letech\n",
      "Zustatek uctu: 19100.526710000002 po 4 letech\n",
      "Zustatek uctu: 21909.574113900002 po 5 letech\n",
      "Zustatek uctu: 24971.435784151003 po 6 letech\n",
      "Zustatek uctu: 28308.865004724594 po 7 letech\n",
      "Zustatek uctu: 31946.66285514981 po 8 letech\n",
      "Zustatek uctu: 35911.8625121133 po 9 letech\n",
      "Zustatek uctu: 40233.9301382035 po 10 letech\n",
      "Zustatek uctu: 44944.98385064182 po 11 letech\n",
      "Zustatek uctu: 50080.03239719958 po 12 letech\n",
      "Zustatek uctu: 55677.23531294755 po 13 letech\n",
      "Zustatek uctu: 61778.186491112836 po 14 letech\n",
      "Zustatek uctu: 68428.223275313 po 15 letech\n",
      "Zustatek uctu: 75676.76337009117 po 16 letech\n",
      "Zustatek uctu: 83577.67207339939 po 17 letech\n",
      "Zustatek uctu: 92189.66256000534 po 18 letech\n",
      "Zustatek uctu: 101576.73219040582 po 19 letech\n",
      "Zustatek uctu: 111808.63808754235 po 20 letech\n",
      "Zustatek uctu: 122961.41551542118 po 21 letech\n",
      "Zustatek uctu: 135117.9429118091 po 22 letech\n",
      "Zustatek uctu: 148368.55777387193 po 23 letech\n",
      "Zustatek uctu: 162811.7279735204 po 24 letech\n",
      "Zustatek uctu: 178554.78349113726 po 25 letech\n",
      "Zustatek uctu: 195714.71400533963 po 26 letech\n",
      "Zustatek uctu: 214419.0382658202 po 27 letech\n",
      "Zustatek uctu: 234806.75170974404 po 28 letech\n",
      "Zustatek uctu: 257029.359363621 po 29 letech\n",
      "Zustatek uctu: 281252.0017063469 po 30 letech\n",
      "Zustatek uctu: 307654.6818599182 po 31 letech\n",
      "Zustatek uctu: 336433.6032273108 po 32 letech\n",
      "Zustatek uctu: 367802.6275177688 po 33 letech\n",
      "Zustatek uctu: 401994.86399436806 po 34 letech\n",
      "Zustatek uctu: 439264.4017538612 po 35 letech\n",
      "Zustatek uctu: 479888.1979117088 po 36 letech\n",
      "Zustatek uctu: 524168.1357237626 po 37 letech\n",
      "Zustatek uctu: 572433.2679389013 po 38 letech\n",
      "Zustatek uctu: 625042.2620534025 po 39 letech\n",
      "Zustatek uctu: 682386.0656382088 po 40 letech\n",
      "Zustatek uctu: 744890.8115456476 po 41 letech\n",
      "Zustatek uctu: 813020.984584756 po 42 letech\n",
      "Zustatek uctu: 887282.8731973841 po 43 letech\n",
      "Zustatek uctu: 968228.3317851487 po 44 letech\n",
      "Zustatek uctu: 1056458.8816458122 po 45 letech\n"
     ]
    }
   ],
   "source": [
    "ucet = 10000\n",
    "pocet_let = 0\n",
    "\n",
    "while ucet < 1e6:\n",
    "    ucet += 1000\n",
    "    ucet *= 1.09\n",
    "    pocet_let += 1\n",
    "    print(\"Zustatek uctu:\",ucet,\"po\", pocet_let, \"letech\")"
   ]
  },
  {
   "cell_type": "markdown",
   "metadata": {},
   "source": [
    "\n",
    "# Generátory a iterátory:\n",
    "\n",
    "1. Napište generátor (funkci), který vytváří Fibonacciho posloupnost a postupně vrátí prvních $n$ členů. Otestujte pomocí for cyklu.\n"
   ]
  },
  {
   "cell_type": "code",
   "execution_count": 27,
   "metadata": {},
   "outputs": [
    {
     "name": "stdout",
     "output_type": "stream",
     "text": [
      "0\n",
      "1\n",
      "1\n",
      "2\n",
      "3\n",
      "5\n",
      "8\n",
      "13\n",
      "21\n",
      "34\n",
      "55\n",
      "89\n",
      "144\n",
      "233\n",
      "377\n"
     ]
    }
   ],
   "source": [
    "def fibonacci(n):\n",
    "    a, b = 0, 1\n",
    "    for i in range(n):\n",
    "        yield a\n",
    "        a, b = b, a + b\n",
    "\n",
    "for i in fibonacci(15):\n",
    "    print(i)"
   ]
  },
  {
   "cell_type": "markdown",
   "metadata": {},
   "source": [
    "2. Napište generátor výraz, který bude vracet všechny sudá čísla menší než 100. Otestujte pomocí for cyklu."
   ]
  },
  {
   "cell_type": "code",
   "execution_count": 32,
   "metadata": {},
   "outputs": [
    {
     "name": "stdout",
     "output_type": "stream",
     "text": [
      "0\n",
      "2\n",
      "4\n",
      "6\n",
      "8\n",
      "10\n",
      "12\n",
      "14\n",
      "16\n",
      "18\n",
      "20\n",
      "22\n",
      "24\n",
      "26\n",
      "28\n",
      "30\n",
      "32\n",
      "34\n",
      "36\n",
      "38\n",
      "40\n",
      "42\n",
      "44\n",
      "46\n",
      "48\n",
      "50\n",
      "52\n",
      "54\n",
      "56\n",
      "58\n",
      "60\n",
      "62\n",
      "64\n",
      "66\n",
      "68\n",
      "70\n",
      "72\n",
      "74\n",
      "76\n",
      "78\n",
      "80\n",
      "82\n",
      "84\n",
      "86\n",
      "88\n",
      "90\n",
      "92\n",
      "94\n",
      "96\n",
      "98\n"
     ]
    }
   ],
   "source": [
    "gen_suda = (i for i in range(100) if i%2 == 0)\n",
    "\n",
    "for i in gen_suda:\n",
    "    print(i)"
   ]
  },
  {
   "cell_type": "markdown",
   "metadata": {},
   "source": [
    "3. Pro dané číslo `n` vytvořte generátor, který bude vracet True/False hodnoty, zda je dělitelné postupně čísly od `2` do `n-1`. Otestujte pro několik čísel, pomocí funkce `all()` přičemž by výsledný výraz měl fungovat jako test prvočíselnosti. "
   ]
  },
  {
   "cell_type": "code",
   "execution_count": 39,
   "metadata": {},
   "outputs": [
    {
     "data": {
      "text/plain": [
       "False"
      ]
     },
     "execution_count": 39,
     "metadata": {},
     "output_type": "execute_result"
    }
   ],
   "source": [
    "n = 39\n",
    "gen_delitelnost = (n % i != 0 for i in range(2,n))\n",
    "all(gen_delitelnost)"
   ]
  },
  {
   "cell_type": "code",
   "execution_count": 38,
   "metadata": {},
   "outputs": [
    {
     "data": {
      "text/plain": [
       "[2,\n",
       " 3,\n",
       " 5,\n",
       " 7,\n",
       " 11,\n",
       " 13,\n",
       " 17,\n",
       " 19,\n",
       " 23,\n",
       " 29,\n",
       " 31,\n",
       " 37,\n",
       " 41,\n",
       " 43,\n",
       " 47,\n",
       " 53,\n",
       " 59,\n",
       " 61,\n",
       " 67,\n",
       " 71,\n",
       " 73,\n",
       " 79,\n",
       " 83,\n",
       " 89,\n",
       " 97]"
      ]
     },
     "execution_count": 38,
     "metadata": {},
     "output_type": "execute_result"
    }
   ],
   "source": [
    "[n for n in range(2,100) if all((n % i != 0 for i in range(2,n)))]"
   ]
  },
  {
   "cell_type": "markdown",
   "metadata": {},
   "source": [
    "\n",
    "# List comprehension:\n",
    "1. Vytvořte seznam čísel od 1 do 10 pomocí list comprehension.\n"
   ]
  },
  {
   "cell_type": "code",
   "execution_count": 42,
   "metadata": {},
   "outputs": [
    {
     "data": {
      "text/plain": [
       "[1, 2, 3, 4, 5, 6, 7, 8, 9, 10]"
      ]
     },
     "execution_count": 42,
     "metadata": {},
     "output_type": "execute_result"
    }
   ],
   "source": [
    "[i for i in range(1,11)]"
   ]
  },
  {
   "cell_type": "markdown",
   "metadata": {},
   "source": [
    "2. Vytvořte seznam druhých mocnin čísel od 1 do 10 pomocí list comprehension.\n"
   ]
  },
  {
   "cell_type": "code",
   "execution_count": 43,
   "metadata": {},
   "outputs": [
    {
     "data": {
      "text/plain": [
       "[1, 4, 9, 16, 25, 36, 49, 64, 81, 100]"
      ]
     },
     "execution_count": 43,
     "metadata": {},
     "output_type": "execute_result"
    }
   ],
   "source": [
    "[i**2 for i in range(1,11)]"
   ]
  },
  {
   "cell_type": "markdown",
   "metadata": {},
   "source": [
    "3. Vytvořte seznam prvočísel od 1 do 100 pomocí list comprehension. Hint (použijte test prvočíselnosti z předchozích úloh).\n"
   ]
  },
  {
   "cell_type": "code",
   "execution_count": 45,
   "metadata": {},
   "outputs": [
    {
     "data": {
      "text/plain": [
       "[2,\n",
       " 3,\n",
       " 5,\n",
       " 7,\n",
       " 11,\n",
       " 13,\n",
       " 17,\n",
       " 19,\n",
       " 23,\n",
       " 29,\n",
       " 31,\n",
       " 37,\n",
       " 41,\n",
       " 43,\n",
       " 47,\n",
       " 53,\n",
       " 59,\n",
       " 61,\n",
       " 67,\n",
       " 71,\n",
       " 73,\n",
       " 79,\n",
       " 83,\n",
       " 89,\n",
       " 97]"
      ]
     },
     "execution_count": 45,
     "metadata": {},
     "output_type": "execute_result"
    }
   ],
   "source": [
    "[n for n in range(2,100) if all(n % i != 0 for i in range(2,n))]"
   ]
  },
  {
   "cell_type": "markdown",
   "metadata": {},
   "source": [
    "\n",
    "# Jupyter magics:\n",
    "1. Použijte funkci `%%writefile` a pomocí ní vytvořte .py soubor sloužící jako modul mající dvě funkce:\n",
    "\n",
    "```python\n",
    "def factorial_loop(n):\n",
    "    result = 1\n",
    "    for i in range(1, n + 1):\n",
    "        result *= i\n",
    "    return result\n",
    "\n",
    "def factorial_recursive(n):\n",
    "    if n == 1:\n",
    "        return 1\n",
    "    else:\n",
    "        return n * factorial_recursive(n - 1)\n",
    "```\n",
    "\n",
    "Modul pojmenujte `factorial.py`. Zkuste jej načíst a zavolat obě funkce."
   ]
  },
  {
   "cell_type": "code",
   "execution_count": null,
   "metadata": {},
   "outputs": [],
   "source": []
  },
  {
   "cell_type": "markdown",
   "metadata": {},
   "source": [
    "2. Použijte magic příkazy `%time %timeit %%time` a `%%timeit` k měření času běhu dvou variant výpočtu faktroriálu (např. pro `n=200`).\n"
   ]
  },
  {
   "cell_type": "code",
   "execution_count": null,
   "metadata": {},
   "outputs": [],
   "source": []
  },
  {
   "cell_type": "markdown",
   "metadata": {},
   "source": [
    "\n",
    "# Práce s řetězci:\n",
    "\n",
    "1. Použíjte funkce z minulého úkolu a v cyklu spočtěte faktoriál `n` pro hodnoty od 0 do 10. Pomocí f-strings vypište výsledky ve formátu \"n = 3, faktoriál = 6\" pro všechny hodnoty `n`.\n"
   ]
  },
  {
   "cell_type": "code",
   "execution_count": null,
   "metadata": {},
   "outputs": [],
   "source": []
  },
  {
   "cell_type": "markdown",
   "metadata": {},
   "source": [
    "2. Vytvořte funkci `je_palindrom` která bude testovat, zda je zadaný řetězec palindrom. Funkce bude vracet `True` pokud je řetězec palindrom a `False` pokud není. Funkci otestujte na několika příkladech."
   ]
  },
  {
   "cell_type": "code",
   "execution_count": null,
   "metadata": {},
   "outputs": [],
   "source": []
  },
  {
   "cell_type": "markdown",
   "metadata": {},
   "source": [
    "3. Do proměnné uložte větu \"Python je nejlepší programovací jazyk\". \n",
    "    - převeďtě na \"nadpis\" (velká počáteční písmena ve všech slovech)\n",
    "    - nahraďte všechny mezery pomlčkou"
   ]
  },
  {
   "cell_type": "code",
   "execution_count": null,
   "metadata": {},
   "outputs": [],
   "source": []
  },
  {
   "cell_type": "markdown",
   "metadata": {},
   "source": [
    "4. Pro stejný řetězec zjistěte, kolikrát se zde vyskytuje písmeno \"o\"."
   ]
  },
  {
   "cell_type": "code",
   "execution_count": null,
   "metadata": {},
   "outputs": [],
   "source": []
  },
  {
   "cell_type": "markdown",
   "metadata": {},
   "source": [
    "5. Převeďte řetězec z bodu 4 na list slov."
   ]
  },
  {
   "cell_type": "code",
   "execution_count": null,
   "metadata": {},
   "outputs": [],
   "source": []
  },
  {
   "cell_type": "markdown",
   "metadata": {},
   "source": [
    "\n",
    "# Práce se soubory:\n",
    "1. Pomocí `%%writefile` vytvořte soubor s nějakým textem.\n"
   ]
  },
  {
   "cell_type": "code",
   "execution_count": null,
   "metadata": {},
   "outputs": [],
   "source": []
  },
  {
   "cell_type": "markdown",
   "metadata": {},
   "source": [
    "2. Otevřete soubor pro čtení a vypište jeho obsah.\n"
   ]
  },
  {
   "cell_type": "code",
   "execution_count": null,
   "metadata": {},
   "outputs": [],
   "source": []
  },
  {
   "cell_type": "markdown",
   "metadata": {},
   "source": [
    "3. Otevřete jiný soubor pro zápis a napište do něj textový řetězec.\n"
   ]
  },
  {
   "cell_type": "code",
   "execution_count": null,
   "metadata": {},
   "outputs": [],
   "source": []
  },
  {
   "cell_type": "markdown",
   "metadata": {},
   "source": [
    "4. Pomocí f-strings zapište do souboru tabulku čísel od 1 do 10, jejich druhých mocnin a jejich druhých odmocnin."
   ]
  },
  {
   "cell_type": "code",
   "execution_count": null,
   "metadata": {},
   "outputs": [],
   "source": []
  }
 ],
 "metadata": {
  "kernelspec": {
   "display_name": "Python 3",
   "language": "python",
   "name": "python3"
  },
  "language_info": {
   "codemirror_mode": {
    "name": "ipython",
    "version": 3
   },
   "file_extension": ".py",
   "mimetype": "text/x-python",
   "name": "python",
   "nbconvert_exporter": "python",
   "pygments_lexer": "ipython3",
   "version": "3.10.12"
  },
  "orig_nbformat": 4,
  "vscode": {
   "interpreter": {
    "hash": "e7370f93d1d0cde622a1f8e1c04877d8463912d04d973331ad4851f04de6915a"
   }
  }
 },
 "nbformat": 4,
 "nbformat_minor": 2
}
